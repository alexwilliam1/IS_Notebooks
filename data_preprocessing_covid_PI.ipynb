{
 "cells": [
  {
   "cell_type": "markdown",
   "metadata": {
    "colab_type": "text",
    "id": "37puETfgRzzg"
   },
   "source": [
    "# S02T01: Pré processamento dos dados"
   ]
  },
  {
   "cell_type": "markdown",
   "metadata": {
    "colab_type": "text",
    "id": "EoRP98MpR-qj"
   },
   "source": [
    "## 📚 Importando as bibliotecas"
   ]
  },
  {
   "cell_type": "code",
   "execution_count": 1,
   "metadata": {
    "colab": {},
    "colab_type": "code",
    "id": "N-qiINBQSK2g"
   },
   "outputs": [],
   "source": [
    "import pandas as pd\n",
    "import numpy as np\n",
    "import os\n",
    "from sklearn.impute import SimpleImputer \n",
    "from sklearn.compose import ColumnTransformer\n",
    "from sklearn.preprocessing import OneHotEncoder\n",
    "from sklearn.model_selection import train_test_split\n",
    "from sklearn.preprocessing import StandardScaler\n",
    "import pickle"
   ]
  },
  {
   "cell_type": "markdown",
   "metadata": {
    "colab_type": "text",
    "id": "RopL7tUZSQkT"
   },
   "source": [
    "## 🎲 Carregando os dados"
   ]
  },
  {
   "cell_type": "code",
   "execution_count": 7,
   "metadata": {
    "colab": {},
    "colab_type": "code",
    "id": "WwEPNDWySTKm"
   },
   "outputs": [],
   "source": [
    "DATASET_PATH = 'C://Users//alexw//Documents//UFPI//Sistemas_Inteligentes//21-04-01_visualization_pre_processing//'\n",
    "DATASET_NAME = 'covid-piaui.csv'"
   ]
  },
  {
   "cell_type": "code",
   "execution_count": 8,
   "metadata": {
    "colab": {
     "base_uri": "https://localhost:8080/",
     "height": 188
    },
    "colab_type": "code",
    "executionInfo": {
     "elapsed": 895,
     "status": "ok",
     "timestamp": 1587622253093,
     "user": {
      "displayName": "Hadelin de Ponteves",
      "photoUrl": "https://lh3.googleusercontent.com/a-/AOh14GhEuXdT7eQweUmRPW8_laJuPggSK6hfvpl5a6WBaA=s64",
      "userId": "15047218817161520419"
     },
     "user_tz": -240
    },
    "id": "hCsz2yCebe1R",
    "outputId": "1e4cc568-4e51-4b38-9d46-4aa3f15204be"
   },
   "outputs": [],
   "source": [
    "def load_data(dataset_path=DATASET_PATH, dataset_name=DATASET_NAME):\n",
    "    csv_path = os.path.join(dataset_path, dataset_name)\n",
    "    return pd.read_csv(csv_path)"
   ]
  },
  {
   "cell_type": "code",
   "execution_count": 9,
   "metadata": {
    "colab": {
     "base_uri": "https://localhost:8080/",
     "height": 34
    },
    "colab_type": "code",
    "executionInfo": {
     "elapsed": 656,
     "status": "ok",
     "timestamp": 1587622256072,
     "user": {
      "displayName": "Hadelin de Ponteves",
      "photoUrl": "https://lh3.googleusercontent.com/a-/AOh14GhEuXdT7eQweUmRPW8_laJuPggSK6hfvpl5a6WBaA=s64",
      "userId": "15047218817161520419"
     },
     "user_tz": -240
    },
    "id": "eYrOQ43XcJR3",
    "outputId": "e0873b2a-3b08-4bab-ef0d-15b88858ca44"
   },
   "outputs": [
    {
     "data": {
      "text/html": [
       "<div>\n",
       "<style scoped>\n",
       "    .dataframe tbody tr th:only-of-type {\n",
       "        vertical-align: middle;\n",
       "    }\n",
       "\n",
       "    .dataframe tbody tr th {\n",
       "        vertical-align: top;\n",
       "    }\n",
       "\n",
       "    .dataframe thead th {\n",
       "        text-align: right;\n",
       "    }\n",
       "</style>\n",
       "<table border=\"1\" class=\"dataframe\">\n",
       "  <thead>\n",
       "    <tr style=\"text-align: right;\">\n",
       "      <th></th>\n",
       "      <th>date</th>\n",
       "      <th>state</th>\n",
       "      <th>city</th>\n",
       "      <th>place_type</th>\n",
       "      <th>confirmed</th>\n",
       "      <th>deaths</th>\n",
       "      <th>order_for_place</th>\n",
       "      <th>estimated_population_2019</th>\n",
       "      <th>estimated_population</th>\n",
       "      <th>confirmed_per_100k_inhabitants</th>\n",
       "      <th>death_rate</th>\n",
       "      <th>longitude</th>\n",
       "      <th>latitude</th>\n",
       "    </tr>\n",
       "  </thead>\n",
       "  <tbody>\n",
       "    <tr>\n",
       "      <th>0</th>\n",
       "      <td>21/03/2021</td>\n",
       "      <td>PI</td>\n",
       "      <td>ACAUA</td>\n",
       "      <td>city</td>\n",
       "      <td>151</td>\n",
       "      <td>1</td>\n",
       "      <td>292</td>\n",
       "      <td>7084</td>\n",
       "      <td>7102</td>\n",
       "      <td>212616164</td>\n",
       "      <td>66</td>\n",
       "      <td>-41.083638</td>\n",
       "      <td>-8.220787</td>\n",
       "    </tr>\n",
       "    <tr>\n",
       "      <th>1</th>\n",
       "      <td>21/03/2021</td>\n",
       "      <td>PI</td>\n",
       "      <td>AGRICOLANDIA</td>\n",
       "      <td>city</td>\n",
       "      <td>100</td>\n",
       "      <td>0</td>\n",
       "      <td>284</td>\n",
       "      <td>5139</td>\n",
       "      <td>5131</td>\n",
       "      <td>194893783</td>\n",
       "      <td>0</td>\n",
       "      <td>-42.659183</td>\n",
       "      <td>-5.795502</td>\n",
       "    </tr>\n",
       "    <tr>\n",
       "      <th>2</th>\n",
       "      <td>21/03/2021</td>\n",
       "      <td>PI</td>\n",
       "      <td>AGUA BRANCA</td>\n",
       "      <td>city</td>\n",
       "      <td>1165</td>\n",
       "      <td>50</td>\n",
       "      <td>333</td>\n",
       "      <td>17411</td>\n",
       "      <td>17470</td>\n",
       "      <td>666857470</td>\n",
       "      <td>429</td>\n",
       "      <td>-42.635131</td>\n",
       "      <td>-5.893266</td>\n",
       "    </tr>\n",
       "    <tr>\n",
       "      <th>3</th>\n",
       "      <td>21/03/2021</td>\n",
       "      <td>PI</td>\n",
       "      <td>ALAGOINHA DO PIAUI</td>\n",
       "      <td>city</td>\n",
       "      <td>238</td>\n",
       "      <td>9</td>\n",
       "      <td>298</td>\n",
       "      <td>7651</td>\n",
       "      <td>7665</td>\n",
       "      <td>310502283</td>\n",
       "      <td>378</td>\n",
       "      <td>-40.934635</td>\n",
       "      <td>-7.008175</td>\n",
       "    </tr>\n",
       "    <tr>\n",
       "      <th>4</th>\n",
       "      <td>21/03/2021</td>\n",
       "      <td>PI</td>\n",
       "      <td>ALEGRETE DO PIAUI</td>\n",
       "      <td>city</td>\n",
       "      <td>377</td>\n",
       "      <td>4</td>\n",
       "      <td>280</td>\n",
       "      <td>4915</td>\n",
       "      <td>4918</td>\n",
       "      <td>766571777</td>\n",
       "      <td>106</td>\n",
       "      <td>-40.857863</td>\n",
       "      <td>-7.245349</td>\n",
       "    </tr>\n",
       "    <tr>\n",
       "      <th>...</th>\n",
       "      <td>...</td>\n",
       "      <td>...</td>\n",
       "      <td>...</td>\n",
       "      <td>...</td>\n",
       "      <td>...</td>\n",
       "      <td>...</td>\n",
       "      <td>...</td>\n",
       "      <td>...</td>\n",
       "      <td>...</td>\n",
       "      <td>...</td>\n",
       "      <td>...</td>\n",
       "      <td>...</td>\n",
       "      <td>...</td>\n",
       "    </tr>\n",
       "    <tr>\n",
       "      <th>219</th>\n",
       "      <td>21/03/2021</td>\n",
       "      <td>PI</td>\n",
       "      <td>VARZEA BRANCA</td>\n",
       "      <td>city</td>\n",
       "      <td>84</td>\n",
       "      <td>5</td>\n",
       "      <td>300</td>\n",
       "      <td>4947</td>\n",
       "      <td>4938</td>\n",
       "      <td>170109356</td>\n",
       "      <td>595</td>\n",
       "      <td>-42.969445</td>\n",
       "      <td>-9.236541</td>\n",
       "    </tr>\n",
       "    <tr>\n",
       "      <th>220</th>\n",
       "      <td>21/03/2021</td>\n",
       "      <td>PI</td>\n",
       "      <td>VARZEA GRANDE</td>\n",
       "      <td>city</td>\n",
       "      <td>290</td>\n",
       "      <td>0</td>\n",
       "      <td>331</td>\n",
       "      <td>4391</td>\n",
       "      <td>4386</td>\n",
       "      <td>661194710</td>\n",
       "      <td>0</td>\n",
       "      <td>-42.253102</td>\n",
       "      <td>-6.542948</td>\n",
       "    </tr>\n",
       "    <tr>\n",
       "      <th>221</th>\n",
       "      <td>21/03/2021</td>\n",
       "      <td>PI</td>\n",
       "      <td>VERA MENDES</td>\n",
       "      <td>city</td>\n",
       "      <td>133</td>\n",
       "      <td>2</td>\n",
       "      <td>315</td>\n",
       "      <td>3077</td>\n",
       "      <td>3080</td>\n",
       "      <td>431818182</td>\n",
       "      <td>150</td>\n",
       "      <td>-41.479737</td>\n",
       "      <td>-7.602849</td>\n",
       "    </tr>\n",
       "    <tr>\n",
       "      <th>222</th>\n",
       "      <td>21/03/2021</td>\n",
       "      <td>PI</td>\n",
       "      <td>VILA NOVA DO PIAUI</td>\n",
       "      <td>city</td>\n",
       "      <td>108</td>\n",
       "      <td>1</td>\n",
       "      <td>323</td>\n",
       "      <td>2971</td>\n",
       "      <td>2952</td>\n",
       "      <td>365853659</td>\n",
       "      <td>93</td>\n",
       "      <td>-40.937801</td>\n",
       "      <td>-7.141046</td>\n",
       "    </tr>\n",
       "    <tr>\n",
       "      <th>223</th>\n",
       "      <td>21/03/2021</td>\n",
       "      <td>PI</td>\n",
       "      <td>WALL FERRAZ</td>\n",
       "      <td>city</td>\n",
       "      <td>321</td>\n",
       "      <td>3</td>\n",
       "      <td>276</td>\n",
       "      <td>4462</td>\n",
       "      <td>4471</td>\n",
       "      <td>717960188</td>\n",
       "      <td>93</td>\n",
       "      <td>-41.908954</td>\n",
       "      <td>-7.235779</td>\n",
       "    </tr>\n",
       "  </tbody>\n",
       "</table>\n",
       "<p>224 rows × 13 columns</p>\n",
       "</div>"
      ],
      "text/plain": [
       "           date state                city place_type  confirmed  deaths  \\\n",
       "0    21/03/2021    PI               ACAUA       city        151       1   \n",
       "1    21/03/2021    PI        AGRICOLANDIA       city        100       0   \n",
       "2    21/03/2021    PI         AGUA BRANCA       city       1165      50   \n",
       "3    21/03/2021    PI  ALAGOINHA DO PIAUI       city        238       9   \n",
       "4    21/03/2021    PI   ALEGRETE DO PIAUI       city        377       4   \n",
       "..          ...   ...                 ...        ...        ...     ...   \n",
       "219  21/03/2021    PI       VARZEA BRANCA       city         84       5   \n",
       "220  21/03/2021    PI       VARZEA GRANDE       city        290       0   \n",
       "221  21/03/2021    PI         VERA MENDES       city        133       2   \n",
       "222  21/03/2021    PI  VILA NOVA DO PIAUI       city        108       1   \n",
       "223  21/03/2021    PI         WALL FERRAZ       city        321       3   \n",
       "\n",
       "     order_for_place  estimated_population_2019  estimated_population  \\\n",
       "0                292                       7084                  7102   \n",
       "1                284                       5139                  5131   \n",
       "2                333                      17411                 17470   \n",
       "3                298                       7651                  7665   \n",
       "4                280                       4915                  4918   \n",
       "..               ...                        ...                   ...   \n",
       "219              300                       4947                  4938   \n",
       "220              331                       4391                  4386   \n",
       "221              315                       3077                  3080   \n",
       "222              323                       2971                  2952   \n",
       "223              276                       4462                  4471   \n",
       "\n",
       "     confirmed_per_100k_inhabitants  death_rate  longitude  latitude  \n",
       "0                         212616164          66 -41.083638 -8.220787  \n",
       "1                         194893783           0 -42.659183 -5.795502  \n",
       "2                         666857470         429 -42.635131 -5.893266  \n",
       "3                         310502283         378 -40.934635 -7.008175  \n",
       "4                         766571777         106 -40.857863 -7.245349  \n",
       "..                              ...         ...        ...       ...  \n",
       "219                       170109356         595 -42.969445 -9.236541  \n",
       "220                       661194710           0 -42.253102 -6.542948  \n",
       "221                       431818182         150 -41.479737 -7.602849  \n",
       "222                       365853659          93 -40.937801 -7.141046  \n",
       "223                       717960188          93 -41.908954 -7.235779  \n",
       "\n",
       "[224 rows x 13 columns]"
      ]
     },
     "execution_count": 9,
     "metadata": {},
     "output_type": "execute_result"
    }
   ],
   "source": [
    "covid = load_data(DATASET_PATH,DATASET_NAME)\n",
    "covid = covid.drop([\"city_ibge_code\", \"is_last\"], axis=1)\n",
    "covid"
   ]
  },
  {
   "cell_type": "code",
   "execution_count": 10,
   "metadata": {},
   "outputs": [
    {
     "data": {
      "text/html": [
       "<div>\n",
       "<style scoped>\n",
       "    .dataframe tbody tr th:only-of-type {\n",
       "        vertical-align: middle;\n",
       "    }\n",
       "\n",
       "    .dataframe tbody tr th {\n",
       "        vertical-align: top;\n",
       "    }\n",
       "\n",
       "    .dataframe thead th {\n",
       "        text-align: right;\n",
       "    }\n",
       "</style>\n",
       "<table border=\"1\" class=\"dataframe\">\n",
       "  <thead>\n",
       "    <tr style=\"text-align: right;\">\n",
       "      <th></th>\n",
       "      <th>date</th>\n",
       "      <th>state</th>\n",
       "      <th>city</th>\n",
       "      <th>place_type</th>\n",
       "      <th>confirmed</th>\n",
       "      <th>order_for_place</th>\n",
       "      <th>estimated_population_2019</th>\n",
       "      <th>estimated_population</th>\n",
       "      <th>confirmed_per_100k_inhabitants</th>\n",
       "      <th>death_rate</th>\n",
       "      <th>longitude</th>\n",
       "      <th>latitude</th>\n",
       "    </tr>\n",
       "  </thead>\n",
       "  <tbody>\n",
       "    <tr>\n",
       "      <th>0</th>\n",
       "      <td>21/03/2021</td>\n",
       "      <td>PI</td>\n",
       "      <td>ACAUA</td>\n",
       "      <td>city</td>\n",
       "      <td>151</td>\n",
       "      <td>292</td>\n",
       "      <td>7084</td>\n",
       "      <td>7102</td>\n",
       "      <td>212616164</td>\n",
       "      <td>66</td>\n",
       "      <td>-41.083638</td>\n",
       "      <td>-8.220787</td>\n",
       "    </tr>\n",
       "    <tr>\n",
       "      <th>1</th>\n",
       "      <td>21/03/2021</td>\n",
       "      <td>PI</td>\n",
       "      <td>AGRICOLANDIA</td>\n",
       "      <td>city</td>\n",
       "      <td>100</td>\n",
       "      <td>284</td>\n",
       "      <td>5139</td>\n",
       "      <td>5131</td>\n",
       "      <td>194893783</td>\n",
       "      <td>0</td>\n",
       "      <td>-42.659183</td>\n",
       "      <td>-5.795502</td>\n",
       "    </tr>\n",
       "    <tr>\n",
       "      <th>2</th>\n",
       "      <td>21/03/2021</td>\n",
       "      <td>PI</td>\n",
       "      <td>AGUA BRANCA</td>\n",
       "      <td>city</td>\n",
       "      <td>1165</td>\n",
       "      <td>333</td>\n",
       "      <td>17411</td>\n",
       "      <td>17470</td>\n",
       "      <td>666857470</td>\n",
       "      <td>429</td>\n",
       "      <td>-42.635131</td>\n",
       "      <td>-5.893266</td>\n",
       "    </tr>\n",
       "    <tr>\n",
       "      <th>3</th>\n",
       "      <td>21/03/2021</td>\n",
       "      <td>PI</td>\n",
       "      <td>ALAGOINHA DO PIAUI</td>\n",
       "      <td>city</td>\n",
       "      <td>238</td>\n",
       "      <td>298</td>\n",
       "      <td>7651</td>\n",
       "      <td>7665</td>\n",
       "      <td>310502283</td>\n",
       "      <td>378</td>\n",
       "      <td>-40.934635</td>\n",
       "      <td>-7.008175</td>\n",
       "    </tr>\n",
       "    <tr>\n",
       "      <th>4</th>\n",
       "      <td>21/03/2021</td>\n",
       "      <td>PI</td>\n",
       "      <td>ALEGRETE DO PIAUI</td>\n",
       "      <td>city</td>\n",
       "      <td>377</td>\n",
       "      <td>280</td>\n",
       "      <td>4915</td>\n",
       "      <td>4918</td>\n",
       "      <td>766571777</td>\n",
       "      <td>106</td>\n",
       "      <td>-40.857863</td>\n",
       "      <td>-7.245349</td>\n",
       "    </tr>\n",
       "    <tr>\n",
       "      <th>...</th>\n",
       "      <td>...</td>\n",
       "      <td>...</td>\n",
       "      <td>...</td>\n",
       "      <td>...</td>\n",
       "      <td>...</td>\n",
       "      <td>...</td>\n",
       "      <td>...</td>\n",
       "      <td>...</td>\n",
       "      <td>...</td>\n",
       "      <td>...</td>\n",
       "      <td>...</td>\n",
       "      <td>...</td>\n",
       "    </tr>\n",
       "    <tr>\n",
       "      <th>219</th>\n",
       "      <td>21/03/2021</td>\n",
       "      <td>PI</td>\n",
       "      <td>VARZEA BRANCA</td>\n",
       "      <td>city</td>\n",
       "      <td>84</td>\n",
       "      <td>300</td>\n",
       "      <td>4947</td>\n",
       "      <td>4938</td>\n",
       "      <td>170109356</td>\n",
       "      <td>595</td>\n",
       "      <td>-42.969445</td>\n",
       "      <td>-9.236541</td>\n",
       "    </tr>\n",
       "    <tr>\n",
       "      <th>220</th>\n",
       "      <td>21/03/2021</td>\n",
       "      <td>PI</td>\n",
       "      <td>VARZEA GRANDE</td>\n",
       "      <td>city</td>\n",
       "      <td>290</td>\n",
       "      <td>331</td>\n",
       "      <td>4391</td>\n",
       "      <td>4386</td>\n",
       "      <td>661194710</td>\n",
       "      <td>0</td>\n",
       "      <td>-42.253102</td>\n",
       "      <td>-6.542948</td>\n",
       "    </tr>\n",
       "    <tr>\n",
       "      <th>221</th>\n",
       "      <td>21/03/2021</td>\n",
       "      <td>PI</td>\n",
       "      <td>VERA MENDES</td>\n",
       "      <td>city</td>\n",
       "      <td>133</td>\n",
       "      <td>315</td>\n",
       "      <td>3077</td>\n",
       "      <td>3080</td>\n",
       "      <td>431818182</td>\n",
       "      <td>150</td>\n",
       "      <td>-41.479737</td>\n",
       "      <td>-7.602849</td>\n",
       "    </tr>\n",
       "    <tr>\n",
       "      <th>222</th>\n",
       "      <td>21/03/2021</td>\n",
       "      <td>PI</td>\n",
       "      <td>VILA NOVA DO PIAUI</td>\n",
       "      <td>city</td>\n",
       "      <td>108</td>\n",
       "      <td>323</td>\n",
       "      <td>2971</td>\n",
       "      <td>2952</td>\n",
       "      <td>365853659</td>\n",
       "      <td>93</td>\n",
       "      <td>-40.937801</td>\n",
       "      <td>-7.141046</td>\n",
       "    </tr>\n",
       "    <tr>\n",
       "      <th>223</th>\n",
       "      <td>21/03/2021</td>\n",
       "      <td>PI</td>\n",
       "      <td>WALL FERRAZ</td>\n",
       "      <td>city</td>\n",
       "      <td>321</td>\n",
       "      <td>276</td>\n",
       "      <td>4462</td>\n",
       "      <td>4471</td>\n",
       "      <td>717960188</td>\n",
       "      <td>93</td>\n",
       "      <td>-41.908954</td>\n",
       "      <td>-7.235779</td>\n",
       "    </tr>\n",
       "  </tbody>\n",
       "</table>\n",
       "<p>224 rows × 12 columns</p>\n",
       "</div>"
      ],
      "text/plain": [
       "           date state                city place_type  confirmed  \\\n",
       "0    21/03/2021    PI               ACAUA       city        151   \n",
       "1    21/03/2021    PI        AGRICOLANDIA       city        100   \n",
       "2    21/03/2021    PI         AGUA BRANCA       city       1165   \n",
       "3    21/03/2021    PI  ALAGOINHA DO PIAUI       city        238   \n",
       "4    21/03/2021    PI   ALEGRETE DO PIAUI       city        377   \n",
       "..          ...   ...                 ...        ...        ...   \n",
       "219  21/03/2021    PI       VARZEA BRANCA       city         84   \n",
       "220  21/03/2021    PI       VARZEA GRANDE       city        290   \n",
       "221  21/03/2021    PI         VERA MENDES       city        133   \n",
       "222  21/03/2021    PI  VILA NOVA DO PIAUI       city        108   \n",
       "223  21/03/2021    PI         WALL FERRAZ       city        321   \n",
       "\n",
       "     order_for_place  estimated_population_2019  estimated_population  \\\n",
       "0                292                       7084                  7102   \n",
       "1                284                       5139                  5131   \n",
       "2                333                      17411                 17470   \n",
       "3                298                       7651                  7665   \n",
       "4                280                       4915                  4918   \n",
       "..               ...                        ...                   ...   \n",
       "219              300                       4947                  4938   \n",
       "220              331                       4391                  4386   \n",
       "221              315                       3077                  3080   \n",
       "222              323                       2971                  2952   \n",
       "223              276                       4462                  4471   \n",
       "\n",
       "     confirmed_per_100k_inhabitants  death_rate  longitude  latitude  \n",
       "0                         212616164          66 -41.083638 -8.220787  \n",
       "1                         194893783           0 -42.659183 -5.795502  \n",
       "2                         666857470         429 -42.635131 -5.893266  \n",
       "3                         310502283         378 -40.934635 -7.008175  \n",
       "4                         766571777         106 -40.857863 -7.245349  \n",
       "..                              ...         ...        ...       ...  \n",
       "219                       170109356         595 -42.969445 -9.236541  \n",
       "220                       661194710           0 -42.253102 -6.542948  \n",
       "221                       431818182         150 -41.479737 -7.602849  \n",
       "222                       365853659          93 -40.937801 -7.141046  \n",
       "223                       717960188          93 -41.908954 -7.235779  \n",
       "\n",
       "[224 rows x 12 columns]"
      ]
     },
     "execution_count": 10,
     "metadata": {},
     "output_type": "execute_result"
    }
   ],
   "source": [
    "covid_target = covid[\"deaths\"].copy()\n",
    "covid = covid.drop(\"deaths\", axis=1) \n",
    "covid"
   ]
  },
  {
   "cell_type": "markdown",
   "metadata": {
    "colab_type": "text",
    "id": "nhfKXNxlSabC"
   },
   "source": [
    "## Tratando os dados faltantes"
   ]
  },
  {
   "cell_type": "code",
   "execution_count": 11,
   "metadata": {},
   "outputs": [
    {
     "name": "stdout",
     "output_type": "stream",
     "text": [
      "<class 'pandas.core.frame.DataFrame'>\n",
      "RangeIndex: 224 entries, 0 to 223\n",
      "Data columns (total 12 columns):\n",
      " #   Column                          Non-Null Count  Dtype  \n",
      "---  ------                          --------------  -----  \n",
      " 0   date                            224 non-null    object \n",
      " 1   state                           224 non-null    object \n",
      " 2   city                            224 non-null    object \n",
      " 3   place_type                      224 non-null    object \n",
      " 4   confirmed                       224 non-null    int64  \n",
      " 5   order_for_place                 224 non-null    int64  \n",
      " 6   estimated_population_2019       224 non-null    int64  \n",
      " 7   estimated_population            224 non-null    int64  \n",
      " 8   confirmed_per_100k_inhabitants  224 non-null    int64  \n",
      " 9   death_rate                      224 non-null    int64  \n",
      " 10  longitude                       224 non-null    float64\n",
      " 11  latitude                        224 non-null    float64\n",
      "dtypes: float64(2), int64(6), object(4)\n",
      "memory usage: 21.1+ KB\n"
     ]
    }
   ],
   "source": [
    "covid.info()"
   ]
  },
  {
   "cell_type": "code",
   "execution_count": 12,
   "metadata": {},
   "outputs": [],
   "source": [
    "# housing_t = housing.dropna(subset=[\"total_bedrooms\"]) "
   ]
  },
  {
   "cell_type": "code",
   "execution_count": 13,
   "metadata": {},
   "outputs": [],
   "source": [
    "# housing_t.info()"
   ]
  },
  {
   "cell_type": "code",
   "execution_count": 14,
   "metadata": {},
   "outputs": [
    {
     "name": "stdout",
     "output_type": "stream",
     "text": [
      "<class 'pandas.core.frame.DataFrame'>\n",
      "RangeIndex: 224 entries, 0 to 223\n",
      "Data columns (total 8 columns):\n",
      " #   Column                          Non-Null Count  Dtype  \n",
      "---  ------                          --------------  -----  \n",
      " 0   confirmed                       224 non-null    int64  \n",
      " 1   order_for_place                 224 non-null    int64  \n",
      " 2   estimated_population_2019       224 non-null    int64  \n",
      " 3   estimated_population            224 non-null    int64  \n",
      " 4   confirmed_per_100k_inhabitants  224 non-null    int64  \n",
      " 5   death_rate                      224 non-null    int64  \n",
      " 6   longitude                       224 non-null    float64\n",
      " 7   latitude                        224 non-null    float64\n",
      "dtypes: float64(2), int64(6)\n",
      "memory usage: 14.1 KB\n"
     ]
    }
   ],
   "source": [
    "covid_t = covid.drop(['date', 'state', 'city', 'place_type'], axis=1)\n",
    "covid_t.info()"
   ]
  },
  {
   "cell_type": "markdown",
   "metadata": {
    "colab_type": "text",
    "id": "CriG6VzVSjcK"
   },
   "source": [
    "## Tratando os dados categóricos"
   ]
  },
  {
   "cell_type": "code",
   "execution_count": 20,
   "metadata": {
    "colab": {},
    "colab_type": "code",
    "id": "XgHCShVyTOYY"
   },
   "outputs": [],
   "source": [
    "from sklearn.preprocessing import LabelEncoder\n",
    "#covid_category_date = covid['date']\n",
    "#covid_category_state = covid['state']\n",
    "#covid_category_place_type = covid['place_type']\n",
    "covid_category_city = covid['city']\n",
    "\n",
    "le = LabelEncoder()\n",
    "\n",
    "# covid_category_date_le = le.fit_transform(covid_category_date)\n",
    "# covid_category_state_le = le.fit_transform(covid_category_state)\n",
    "# covid_category_place_type_le = le.fit_transform(covid_category_place_type)\n",
    "covid_category_city_le = le.fit_transform(covid_category_city)"
   ]
  },
  {
   "cell_type": "code",
   "execution_count": 21,
   "metadata": {
    "colab": {
     "base_uri": "https://localhost:8080/",
     "height": 34
    },
    "colab_type": "code",
    "executionInfo": {
     "elapsed": 657,
     "status": "ok",
     "timestamp": 1587622297024,
     "user": {
      "displayName": "Hadelin de Ponteves",
      "photoUrl": "https://lh3.googleusercontent.com/a-/AOh14GhEuXdT7eQweUmRPW8_laJuPggSK6hfvpl5a6WBaA=s64",
      "userId": "15047218817161520419"
     },
     "user_tz": -240
    },
    "id": "FyhY8-gPpFCa",
    "outputId": "7f76ef29-5423-4c3e-cf69-45fbc366a997"
   },
   "outputs": [
    {
     "data": {
      "text/html": [
       "<div>\n",
       "<style scoped>\n",
       "    .dataframe tbody tr th:only-of-type {\n",
       "        vertical-align: middle;\n",
       "    }\n",
       "\n",
       "    .dataframe tbody tr th {\n",
       "        vertical-align: top;\n",
       "    }\n",
       "\n",
       "    .dataframe thead th {\n",
       "        text-align: right;\n",
       "    }\n",
       "</style>\n",
       "<table border=\"1\" class=\"dataframe\">\n",
       "  <thead>\n",
       "    <tr style=\"text-align: right;\">\n",
       "      <th></th>\n",
       "      <th>confirmed</th>\n",
       "      <th>order_for_place</th>\n",
       "      <th>estimated_population_2019</th>\n",
       "      <th>estimated_population</th>\n",
       "      <th>confirmed_per_100k_inhabitants</th>\n",
       "      <th>death_rate</th>\n",
       "      <th>longitude</th>\n",
       "      <th>latitude</th>\n",
       "      <th>city</th>\n",
       "    </tr>\n",
       "  </thead>\n",
       "  <tbody>\n",
       "    <tr>\n",
       "      <th>0</th>\n",
       "      <td>151</td>\n",
       "      <td>292</td>\n",
       "      <td>7084</td>\n",
       "      <td>7102</td>\n",
       "      <td>212616164</td>\n",
       "      <td>66</td>\n",
       "      <td>-41.083638</td>\n",
       "      <td>-8.220787</td>\n",
       "      <td>0</td>\n",
       "    </tr>\n",
       "    <tr>\n",
       "      <th>1</th>\n",
       "      <td>100</td>\n",
       "      <td>284</td>\n",
       "      <td>5139</td>\n",
       "      <td>5131</td>\n",
       "      <td>194893783</td>\n",
       "      <td>0</td>\n",
       "      <td>-42.659183</td>\n",
       "      <td>-5.795502</td>\n",
       "      <td>1</td>\n",
       "    </tr>\n",
       "    <tr>\n",
       "      <th>2</th>\n",
       "      <td>1165</td>\n",
       "      <td>333</td>\n",
       "      <td>17411</td>\n",
       "      <td>17470</td>\n",
       "      <td>666857470</td>\n",
       "      <td>429</td>\n",
       "      <td>-42.635131</td>\n",
       "      <td>-5.893266</td>\n",
       "      <td>2</td>\n",
       "    </tr>\n",
       "    <tr>\n",
       "      <th>3</th>\n",
       "      <td>238</td>\n",
       "      <td>298</td>\n",
       "      <td>7651</td>\n",
       "      <td>7665</td>\n",
       "      <td>310502283</td>\n",
       "      <td>378</td>\n",
       "      <td>-40.934635</td>\n",
       "      <td>-7.008175</td>\n",
       "      <td>3</td>\n",
       "    </tr>\n",
       "    <tr>\n",
       "      <th>4</th>\n",
       "      <td>377</td>\n",
       "      <td>280</td>\n",
       "      <td>4915</td>\n",
       "      <td>4918</td>\n",
       "      <td>766571777</td>\n",
       "      <td>106</td>\n",
       "      <td>-40.857863</td>\n",
       "      <td>-7.245349</td>\n",
       "      <td>4</td>\n",
       "    </tr>\n",
       "    <tr>\n",
       "      <th>...</th>\n",
       "      <td>...</td>\n",
       "      <td>...</td>\n",
       "      <td>...</td>\n",
       "      <td>...</td>\n",
       "      <td>...</td>\n",
       "      <td>...</td>\n",
       "      <td>...</td>\n",
       "      <td>...</td>\n",
       "      <td>...</td>\n",
       "    </tr>\n",
       "    <tr>\n",
       "      <th>219</th>\n",
       "      <td>84</td>\n",
       "      <td>300</td>\n",
       "      <td>4947</td>\n",
       "      <td>4938</td>\n",
       "      <td>170109356</td>\n",
       "      <td>595</td>\n",
       "      <td>-42.969445</td>\n",
       "      <td>-9.236541</td>\n",
       "      <td>219</td>\n",
       "    </tr>\n",
       "    <tr>\n",
       "      <th>220</th>\n",
       "      <td>290</td>\n",
       "      <td>331</td>\n",
       "      <td>4391</td>\n",
       "      <td>4386</td>\n",
       "      <td>661194710</td>\n",
       "      <td>0</td>\n",
       "      <td>-42.253102</td>\n",
       "      <td>-6.542948</td>\n",
       "      <td>220</td>\n",
       "    </tr>\n",
       "    <tr>\n",
       "      <th>221</th>\n",
       "      <td>133</td>\n",
       "      <td>315</td>\n",
       "      <td>3077</td>\n",
       "      <td>3080</td>\n",
       "      <td>431818182</td>\n",
       "      <td>150</td>\n",
       "      <td>-41.479737</td>\n",
       "      <td>-7.602849</td>\n",
       "      <td>221</td>\n",
       "    </tr>\n",
       "    <tr>\n",
       "      <th>222</th>\n",
       "      <td>108</td>\n",
       "      <td>323</td>\n",
       "      <td>2971</td>\n",
       "      <td>2952</td>\n",
       "      <td>365853659</td>\n",
       "      <td>93</td>\n",
       "      <td>-40.937801</td>\n",
       "      <td>-7.141046</td>\n",
       "      <td>222</td>\n",
       "    </tr>\n",
       "    <tr>\n",
       "      <th>223</th>\n",
       "      <td>321</td>\n",
       "      <td>276</td>\n",
       "      <td>4462</td>\n",
       "      <td>4471</td>\n",
       "      <td>717960188</td>\n",
       "      <td>93</td>\n",
       "      <td>-41.908954</td>\n",
       "      <td>-7.235779</td>\n",
       "      <td>223</td>\n",
       "    </tr>\n",
       "  </tbody>\n",
       "</table>\n",
       "<p>224 rows × 9 columns</p>\n",
       "</div>"
      ],
      "text/plain": [
       "     confirmed  order_for_place  estimated_population_2019  \\\n",
       "0          151              292                       7084   \n",
       "1          100              284                       5139   \n",
       "2         1165              333                      17411   \n",
       "3          238              298                       7651   \n",
       "4          377              280                       4915   \n",
       "..         ...              ...                        ...   \n",
       "219         84              300                       4947   \n",
       "220        290              331                       4391   \n",
       "221        133              315                       3077   \n",
       "222        108              323                       2971   \n",
       "223        321              276                       4462   \n",
       "\n",
       "     estimated_population  confirmed_per_100k_inhabitants  death_rate  \\\n",
       "0                    7102                       212616164          66   \n",
       "1                    5131                       194893783           0   \n",
       "2                   17470                       666857470         429   \n",
       "3                    7665                       310502283         378   \n",
       "4                    4918                       766571777         106   \n",
       "..                    ...                             ...         ...   \n",
       "219                  4938                       170109356         595   \n",
       "220                  4386                       661194710           0   \n",
       "221                  3080                       431818182         150   \n",
       "222                  2952                       365853659          93   \n",
       "223                  4471                       717960188          93   \n",
       "\n",
       "     longitude  latitude  city  \n",
       "0   -41.083638 -8.220787     0  \n",
       "1   -42.659183 -5.795502     1  \n",
       "2   -42.635131 -5.893266     2  \n",
       "3   -40.934635 -7.008175     3  \n",
       "4   -40.857863 -7.245349     4  \n",
       "..         ...       ...   ...  \n",
       "219 -42.969445 -9.236541   219  \n",
       "220 -42.253102 -6.542948   220  \n",
       "221 -41.479737 -7.602849   221  \n",
       "222 -40.937801 -7.141046   222  \n",
       "223 -41.908954 -7.235779   223  \n",
       "\n",
       "[224 rows x 9 columns]"
      ]
     },
     "execution_count": 21,
     "metadata": {},
     "output_type": "execute_result"
    }
   ],
   "source": [
    "# date = pd.DataFrame(covid_category_date_le,columns=['date'])\n",
    "# state = pd.DataFrame(covid_category_state_le,columns=['state'])\n",
    "# place_type = pd.DataFrame(covid_category_place_type_le,columns=['place_type'])\n",
    "city = pd.DataFrame(covid_category_city_le,columns=['city'])\n",
    "\n",
    "covid_encoded1 = pd.concat([covid_t,city], axis=1)\n",
    "covid_encoded1\n",
    "# covid_encoded1.to_csv('NOVO_covid-piaui.csv')"
   ]
  },
  {
   "cell_type": "code",
   "execution_count": 22,
   "metadata": {},
   "outputs": [
    {
     "name": "stdout",
     "output_type": "stream",
     "text": [
      "<class 'pandas.core.frame.DataFrame'>\n",
      "RangeIndex: 224 entries, 0 to 223\n",
      "Data columns (total 9 columns):\n",
      " #   Column                          Non-Null Count  Dtype  \n",
      "---  ------                          --------------  -----  \n",
      " 0   confirmed                       224 non-null    int64  \n",
      " 1   order_for_place                 224 non-null    int64  \n",
      " 2   estimated_population_2019       224 non-null    int64  \n",
      " 3   estimated_population            224 non-null    int64  \n",
      " 4   confirmed_per_100k_inhabitants  224 non-null    int64  \n",
      " 5   death_rate                      224 non-null    int64  \n",
      " 6   longitude                       224 non-null    float64\n",
      " 7   latitude                        224 non-null    float64\n",
      " 8   city                            224 non-null    int32  \n",
      "dtypes: float64(2), int32(1), int64(6)\n",
      "memory usage: 15.0 KB\n"
     ]
    }
   ],
   "source": [
    "covid_encoded1.info()"
   ]
  },
  {
   "cell_type": "markdown",
   "metadata": {
    "colab_type": "text",
    "id": "qb_vcgm3qZKW"
   },
   "source": [
    "## ➗ Dividindo os dados em treino e teste"
   ]
  },
  {
   "cell_type": "code",
   "execution_count": 23,
   "metadata": {
    "colab": {},
    "colab_type": "code",
    "id": "pXgA6CzlqbCl"
   },
   "outputs": [],
   "source": [
    "X_train, X_test, y_train, y_test = train_test_split(covid_encoded1, covid_target, test_size = 0.2,random_state=1, shuffle=True)"
   ]
  },
  {
   "cell_type": "code",
   "execution_count": 24,
   "metadata": {
    "colab": {
     "base_uri": "https://localhost:8080/",
     "height": 154
    },
    "colab_type": "code",
    "executionInfo": {
     "elapsed": 597,
     "status": "ok",
     "timestamp": 1587622301522,
     "user": {
      "displayName": "Hadelin de Ponteves",
      "photoUrl": "https://lh3.googleusercontent.com/a-/AOh14GhEuXdT7eQweUmRPW8_laJuPggSK6hfvpl5a6WBaA=s64",
      "userId": "15047218817161520419"
     },
     "user_tz": -240
    },
    "id": "GuwQhFdKrYTM",
    "outputId": "de1e527f-c229-4daf-e7c5-ea9d2485148d"
   },
   "outputs": [
    {
     "name": "stdout",
     "output_type": "stream",
     "text": [
      "(45, 9)\n"
     ]
    }
   ],
   "source": [
    "print(X_test.shape)"
   ]
  },
  {
   "cell_type": "code",
   "execution_count": 25,
   "metadata": {},
   "outputs": [
    {
     "name": "stdout",
     "output_type": "stream",
     "text": [
      "(179, 9)\n"
     ]
    }
   ],
   "source": [
    "print(X_train.shape)"
   ]
  },
  {
   "cell_type": "code",
   "execution_count": 26,
   "metadata": {},
   "outputs": [
    {
     "name": "stdout",
     "output_type": "stream",
     "text": [
      "(45,)\n"
     ]
    }
   ],
   "source": [
    "print(y_test.shape)"
   ]
  },
  {
   "cell_type": "code",
   "execution_count": 27,
   "metadata": {},
   "outputs": [
    {
     "name": "stdout",
     "output_type": "stream",
     "text": [
      "(179,)\n"
     ]
    }
   ],
   "source": [
    "print(y_train.shape)"
   ]
  },
  {
   "cell_type": "markdown",
   "metadata": {
    "colab_type": "text",
    "id": "TpGqbS4TqkIR"
   },
   "source": [
    "## 🧮 Feature Scaling"
   ]
  },
  {
   "cell_type": "code",
   "execution_count": 28,
   "metadata": {
    "colab": {},
    "colab_type": "code",
    "id": "AxjSUXFQqo-3"
   },
   "outputs": [],
   "source": [
    "#z = (x - u) / s\n",
    "sc = StandardScaler()\n",
    "X_train = sc.fit_transform(X_train)\n",
    "X_test = sc.transform(X_test)"
   ]
  },
  {
   "cell_type": "code",
   "execution_count": 29,
   "metadata": {
    "colab": {
     "base_uri": "https://localhost:8080/",
     "height": 154
    },
    "colab_type": "code",
    "executionInfo": {
     "elapsed": 767,
     "status": "ok",
     "timestamp": 1587622313752,
     "user": {
      "displayName": "Hadelin de Ponteves",
      "photoUrl": "https://lh3.googleusercontent.com/a-/AOh14GhEuXdT7eQweUmRPW8_laJuPggSK6hfvpl5a6WBaA=s64",
      "userId": "15047218817161520419"
     },
     "user_tz": -240
    },
    "id": "DWPET8ZdlMnu",
    "outputId": "dea86927-5124-4e2a-e974-2804df9a913c"
   },
   "outputs": [
    {
     "name": "stdout",
     "output_type": "stream",
     "text": [
      "[[ 0.3713979   1.29223314  0.31077078 ... -0.21686346 -1.24629537\n",
      "   1.37241357]\n",
      " [-0.16347942 -1.72880664 -0.15831705 ... -0.49336498 -1.27271502\n",
      "   1.0314961 ]\n",
      " [-0.1453741   0.30948526 -0.17956877 ...  0.87598036 -0.45567566\n",
      "   1.62035355]\n",
      " ...\n",
      " [-0.13381752  0.12749491 -0.11858828 ...  0.01090322 -1.42531827\n",
      "  -0.68858749]\n",
      " [-0.13709188 -0.12729157 -0.18090184 ...  0.46610579  0.84109346\n",
      "   0.38065366]\n",
      " [-0.09452513 -0.01809736 -0.09947568 ...  1.216561    0.82653553\n",
      "  -1.23095619]]\n"
     ]
    }
   ],
   "source": [
    "print(X_train)"
   ]
  },
  {
   "cell_type": "code",
   "execution_count": 30,
   "metadata": {
    "colab": {
     "base_uri": "https://localhost:8080/",
     "height": 51
    },
    "colab_type": "code",
    "executionInfo": {
     "elapsed": 506,
     "status": "ok",
     "timestamp": 1587622315942,
     "user": {
      "displayName": "Hadelin de Ponteves",
      "photoUrl": "https://lh3.googleusercontent.com/a-/AOh14GhEuXdT7eQweUmRPW8_laJuPggSK6hfvpl5a6WBaA=s64",
      "userId": "15047218817161520419"
     },
     "user_tz": -240
    },
    "id": "sTXykB_QlRjE",
    "outputId": "b68f0cfc-d07c-48cb-80d0-6800028c41f9",
    "scrolled": true
   },
   "outputs": [
    {
     "name": "stdout",
     "output_type": "stream",
     "text": [
      "[[-0.10049603 -2.27477768 -0.17791017 -0.17758065  2.64757171 -0.89961874\n",
      "   1.49260828 -0.30176321 -0.48713626]\n",
      " [-0.10299995 -0.23648578 -0.09815811 -0.09809258 -0.01244601 -0.34682317\n",
      "   0.59701384  1.48378756 -1.27744494]\n",
      " [-0.07064151  0.01830071 -0.0507409  -0.05054181  0.10959139 -0.7025351\n",
      "  -1.66651363 -1.81493935 -0.76606874]\n",
      " [-0.14826325 -0.67326262 -0.15185318 -0.15171267 -0.67982785  0.87413402\n",
      "   0.56946895  1.12817657 -0.22370004]\n",
      " [-0.12784661 -0.30928192 -0.15839455 -0.15813719  0.28072999 -0.94768792\n",
      "  -0.34297579  0.65392374 -0.71957999]\n",
      " [-0.09645122 -1.00084524 -0.14289367 -0.14258551  1.03963937 -0.9140395\n",
      "   0.02156805  1.84749498 -0.16171504]\n",
      " [-0.1492263  -1.58321436 -0.15281424 -0.15276283 -0.70557559  0.10983405\n",
      "   0.77062357 -0.61231789 -0.84354998]\n",
      " [-0.16559813 -0.12729157 -0.17209734 -0.1718202  -1.28385215  0.55207051\n",
      "   0.04951671 -0.0030445  -1.1999637 ]\n",
      " [-0.14017364  0.30948526 -0.12024687 -0.12009967 -0.72006599  1.23945979\n",
      "   0.72037637 -0.09468179 -0.67309124]\n",
      " [-0.09837732 -0.96444717 -0.15107814 -0.15104859  1.25572915 -0.65446592\n",
      "   1.43646221 -0.25557347 -1.7423324 ]\n",
      " [ 0.93593712  1.25583507  0.98524536  0.98425486  1.13090704 -0.2506848\n",
      "   0.88581331 -0.16379233  0.65958613]\n",
      " [-0.13998103  0.41867947 -0.13360864 -0.13335026 -0.5932938  -1.16399924\n",
      "   1.07737111  1.59530297  1.13996984]\n",
      " [-0.02133341  0.01830071  0.0908597   0.09042713 -0.17805172 -0.54390681\n",
      "   1.17578264 -0.75713703  0.59760114]\n",
      " [ 0.1997826   0.96465051  0.1677906   0.16687282  1.21222892 -0.31317474\n",
      "   0.07212889  1.86272849  0.03973619]\n",
      " [ 0.01988508 -0.01809736 -0.00476527 -0.00498327  0.97074501 -0.48622379\n",
      "   0.23791732  1.83346264 -0.17721129]\n",
      " [-0.15770113  1.18303893 -0.139995   -0.13972845 -1.12245712  1.62401324\n",
      "   0.72684305  2.0143914  -1.32393368]\n",
      " [-0.1432554  -1.91079698 -0.18525759 -0.18499357  0.38057417 -0.49583763\n",
      "  -1.57108173 -0.10241889  0.75256363]\n",
      " [-0.15770113 -1.83800084 -0.15654995 -0.15645384 -1.01563292  0.230007\n",
      "  -1.11402882 -1.45885204 -0.39415877]\n",
      " [-0.12996532 -1.40122401 -0.1382744  -0.13852385 -0.20106337 -0.71214894\n",
      "   1.11840182 -0.64229684 -0.27018878]\n",
      " [-0.07757547  0.81905824  0.05833884  0.05807284 -0.60346701 -0.37085776\n",
      "   1.6523996  -0.02459564  0.69057863]\n",
      " [ 1.7816866   1.91100032  2.14557974  2.14331053  0.8644324  -0.14973953\n",
      "   0.60700812  2.17475246  0.53561615]\n",
      " [-0.07314544  0.78266017 -0.08788102 -0.08774538  0.50592295 -0.88039107\n",
      "   0.93250135 -1.0056494   0.78355612]\n",
      " [-0.1274614   1.32863121 -0.05805732 -0.05767674 -0.81238575  0.10983405\n",
      "  -0.79540784 -1.39261066 -1.01400871]\n",
      " [-0.15404154 -1.11003945 -0.1801268  -0.17978908 -0.51077255 -0.07282884\n",
      "  -2.56840891 -1.8141826   1.09348109]\n",
      " [ 0.15201537  1.18303893  0.38869374  0.38839544 -0.0200374   0.03773028\n",
      "   0.19494886  1.61936673 -0.59561   ]\n",
      " [-0.15192284 -1.25563173 -0.16602099 -0.16596708 -0.64862844  0.29249694\n",
      "   0.31244227  0.15105434 -1.52538492]\n",
      " [-0.15365632  0.85545631 -0.1277028  -0.12785234 -1.05572219  0.43670448\n",
      "  -0.07828914 -0.25480496  1.07798485]\n",
      " [-0.10242213  0.01830071 -0.06317261 -0.0628349  -0.33719805 -0.08244267\n",
      "   0.12919967  1.29711768 -1.21545994]\n",
      " [-0.04772095  1.18303893  0.24258238  0.24307141 -0.79712945  0.7876095\n",
      "   0.709397    2.18695058  0.02423994]\n",
      " [-0.09645122  0.16389298 -0.13514322 -0.13487917  0.82107723 -0.66888668\n",
      "   1.28023635 -0.19436402 -1.12248245]\n",
      " [ 0.53684968  0.81905824  0.50229974  0.50170495  1.30103467 -0.26029864\n",
      "   0.14089466  1.42486851 -1.50988867]\n",
      " [-0.13362491  0.05469877 -0.16040967 -0.16023752  0.0829664   0.32133844\n",
      "   0.01004069  0.52194361  0.55111239]\n",
      " [-0.13882537  0.56427175 -0.15675146 -0.15677816 -0.21773363  0.27326926\n",
      "  -1.29481904 -0.18501771  0.10172118]\n",
      " [-0.10126647 -0.63686455 -0.12795081 -0.12775968  0.50576119 -0.23626405\n",
      "   0.31368152  1.2890078  -1.29294119]\n",
      " [-0.12437964  0.63706789 -0.13188804 -0.13174413 -0.12521255  0.02811644\n",
      "   0.89789766  1.78142543 -0.90553497]\n",
      " [-0.15981984 -1.6560105  -0.16719906 -0.16757322 -1.01682535  1.3211774\n",
      "  -0.34125525 -0.79387131 -1.26194869]\n",
      " [-0.10126647 -1.43762208 -0.17822019 -0.17804396  2.64095098  0.03292336\n",
      "  -1.5726121  -0.2410245  -1.63385866]\n",
      " [-0.12919488 -0.0908935  -0.157511   -0.15742679  0.20446289 -0.50064454\n",
      "   1.01783804 -0.09296902 -1.35492618]\n",
      " [-0.14190713 -0.52767034 -0.11745671 -0.11731983 -0.78844772 -0.84674264\n",
      "   1.23297599 -0.80155188 -1.80431739]\n",
      " [-0.1611681   0.63706789 -0.18925682 -0.18910156 -0.80613165 -0.2218433\n",
      "   0.24000198  0.51855615  1.31042857]\n",
      " [-0.017096    0.67346596  0.09206877  0.09209504 -0.1460522   0.15790323\n",
      "   0.17595621 -0.87323212  1.20195483]\n",
      " [-0.16193854  0.45507754 -0.16921417 -0.16922568 -1.10942141 -0.14012569\n",
      "  -0.10681191 -0.39419531  1.23294733]\n",
      " [-0.14807064  0.70986403 -0.15986714 -0.16023752 -0.55723929  0.85490635\n",
      "  -0.21582068  0.09257916 -0.50263251]\n",
      " [-0.09471774  0.7462621  -0.12215348 -0.12175213  0.57120489 -0.55832756\n",
      "   0.29415171  1.33200039 -1.37042243]\n",
      " [-0.127654    0.05469877 -0.05227548 -0.05208617 -0.83995555  2.47003082\n",
      "  -1.34276347 -1.87284472 -1.55637741]]\n"
     ]
    }
   ],
   "source": [
    "print(X_test)"
   ]
  },
  {
   "cell_type": "markdown",
   "metadata": {},
   "source": [
    "## 💾 Salvando os conjuntos em pickle"
   ]
  },
  {
   "cell_type": "code",
   "execution_count": 31,
   "metadata": {},
   "outputs": [],
   "source": [
    "pickle.dump(X_train, open('C://Users//alexw//Documents//UFPI//Sistemas_Inteligentes//PICKLES//X_train.pickle', 'wb'))\n",
    "pickle.dump(X_test, open('C://Users//alexw//Documents//UFPI//Sistemas_Inteligentes//PICKLES//X_test.pickle', 'wb'))\n",
    "pickle.dump(y_train, open('C://Users//alexw//Documents//UFPI//Sistemas_Inteligentes//PICKLES//y_train.pickle', 'wb'))\n",
    "pickle.dump(y_test, open('C://Users//alexw//Documents//UFPI//Sistemas_Inteligentes//PICKLES//y_test.pickle', 'wb'))"
   ]
  }
 ],
 "metadata": {
  "colab": {
   "authorship_tag": "ABX9TyNxDRfLvKVBN9HjXcmlURF3",
   "collapsed_sections": [],
   "name": "data_preprocessing_tools.ipynb",
   "provenance": [],
   "toc_visible": true
  },
  "kernelspec": {
   "display_name": "Python 3",
   "language": "python",
   "name": "python3"
  },
  "language_info": {
   "codemirror_mode": {
    "name": "ipython",
    "version": 3
   },
   "file_extension": ".py",
   "mimetype": "text/x-python",
   "name": "python",
   "nbconvert_exporter": "python",
   "pygments_lexer": "ipython3",
   "version": "3.8.5"
  }
 },
 "nbformat": 4,
 "nbformat_minor": 4
}
